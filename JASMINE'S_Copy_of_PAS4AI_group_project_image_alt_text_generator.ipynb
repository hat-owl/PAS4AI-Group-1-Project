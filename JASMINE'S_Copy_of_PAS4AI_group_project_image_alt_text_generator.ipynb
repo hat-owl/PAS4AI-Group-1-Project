{
  "nbformat": 4,
  "nbformat_minor": 0,
  "metadata": {
    "colab": {
      "provenance": [],
      "include_colab_link": true
    },
    "kernelspec": {
      "name": "python3",
      "display_name": "Python 3"
    },
    "language_info": {
      "name": "python"
    }
  },
  "cells": [
    {
      "cell_type": "markdown",
      "metadata": {
        "id": "view-in-github",
        "colab_type": "text"
      },
      "source": [
        "<a href=\"https://colab.research.google.com/github/hat-owl/PAS4AI-Group-1-Project/blob/main/JASMINE'S_Copy_of_PAS4AI_group_project_image_alt_text_generator.ipynb\" target=\"_parent\"><img src=\"https://colab.research.google.com/assets/colab-badge.svg\" alt=\"Open In Colab\"/></a>"
      ]
    },
    {
      "cell_type": "code",
      "source": [
        "!pip install requests\n",
        "import json\n",
        "import requests\n",
        "import base64\n",
        "from google.colab import userdata"
      ],
      "metadata": {
        "colab": {
          "base_uri": "https://localhost:8080/"
        },
        "id": "ezflXHOrjA1r",
        "outputId": "2b76868e-e0a8-458d-8b43-7df852e87008"
      },
      "execution_count": 1,
      "outputs": [
        {
          "output_type": "stream",
          "name": "stdout",
          "text": [
            "Requirement already satisfied: requests in /usr/local/lib/python3.10/dist-packages (2.31.0)\n",
            "Requirement already satisfied: charset-normalizer<4,>=2 in /usr/local/lib/python3.10/dist-packages (from requests) (3.3.2)\n",
            "Requirement already satisfied: idna<4,>=2.5 in /usr/local/lib/python3.10/dist-packages (from requests) (3.7)\n",
            "Requirement already satisfied: urllib3<3,>=1.21.1 in /usr/local/lib/python3.10/dist-packages (from requests) (2.0.7)\n",
            "Requirement already satisfied: certifi>=2017.4.17 in /usr/local/lib/python3.10/dist-packages (from requests) (2024.6.2)\n"
          ]
        }
      ]
    },
    {
      "cell_type": "code",
      "execution_count": 10,
      "metadata": {
        "id": "Fc9p4m_ndnUJ",
        "colab": {
          "base_uri": "https://localhost:8080/"
        },
        "outputId": "477ac1da-c037-4edb-8a61-60f5a81e4378"
      },
      "outputs": [
        {
          "output_type": "stream",
          "name": "stdout",
          "text": [
            "ALT ID: A gray dog with black spots lies on a wooden floor holding a stuffed toy in its mouth, peeking around a red wall. A stone wall and fireplace are visible in the background.\n",
            "https://www.rorytm.com/pas4ai/nasa_blue_marble.jpg\n"
          ]
        }
      ],
      "source": [
        "## Using URL\n",
        "## Functioning, but still only reading off the URL's\n",
        "\n",
        "\n",
        "PROXY_KEY = userdata.get(\"proxy_key\")\n",
        "system_message = \"your task is to take an image and provide an alt text for it. keep the text short and to the point while still including all relevent detail. Don't use frilly words. Please begin the sentence with the format ALT ID:\"\n",
        "log_params = {}\n",
        "image_url = \"https://www.rorytm.com/pas4ai/nasa_blue_marble.jpg\"\n",
        "\n",
        "\n",
        "\n",
        "\n",
        "def openai_response(system, image_url, log_params, model=\"gpt-4o\"):\n",
        "    url = \"https://pas4ai.rorytm.com:8001/proxy/openai\"\n",
        "    body = {\n",
        "        \"max_tokens\": 300,\n",
        "        \"stream\": False,\n",
        "        \"model\": model,\n",
        "        \"temperature\": 1,\n",
        "        \"presence_penalty\": 0,\n",
        "        \"top_p\": 1,\n",
        "        \"frequency_penalty\": 0,\n",
        "        \"messages\": [{\n",
        "            \"role\": \"system\",\n",
        "            \"content\": system,\n",
        "        },{\n",
        "            \"role\": \"user\",\n",
        "            \"content\": [\n",
        "                {\n",
        "                  \"type\": \"image_url\",\n",
        "                  \"image_url\": {\n",
        "                    \"url\": \"https://www.rorytm.com/pas4ai/nasa_blue_marble.jpg\",\n",
        "                  },\n",
        "                },\n",
        "              ],\n",
        "            }\n",
        "          ],\n",
        "        \"log_params\": log_params,\n",
        "    }\n",
        "    headers = {\"Authorization\": f\"Bearer {PROXY_KEY}\"}\n",
        "    response = requests.post(url, headers=headers, json=body, timeout=None)\n",
        "    response_body = response.content.decode(\"utf-8\")\n",
        "    response_json = json.loads(response_body)[\"choices\"][0][\"message\"][\"content\"]\n",
        "    return response_json\n",
        "\n",
        "\n",
        "\n",
        "response = openai_response(system_message, image_url, log_params)\n",
        "\n",
        "\n",
        "print(response)\n",
        "print(image_url)\n",
        "\n",
        "\n",
        "# response = {\n",
        "#     \"choices\": [\n",
        "#         {\n",
        "#             \"message\": {\n",
        "#                 \"role\": \"assistant\",\n",
        "#                 \"content\": [\n",
        "#                     {\"type\": \"text\", \"text\": \"What’s in this image?\"},\n",
        "#                     {\n",
        "#                         \"type\": \"image_url\",\n",
        "#                         \"image_url\": {\n",
        "#                             \"url\": \"https://www.rorytm.com/pas4ai/nasa_blue_marble.jpg\",\n",
        "#                         },\n",
        "#                     },\n",
        "#                 ],\n",
        "#             }\n",
        "#         }\n",
        "#     ]\n",
        "# }\n",
        "\n"
      ]
    },
    {
      "cell_type": "markdown",
      "source": [],
      "metadata": {
        "id": "ZqSNww6tf9Un"
      }
    },
    {
      "cell_type": "code",
      "source": [
        "## Decoding Base64\n",
        "## Functioning, but still just making stuff up.\n",
        "\n",
        "\n",
        "PROXY_KEY = userdata.get(\"proxy_key\")\n",
        "system_message = \"your task is to take an image and provide an alt text for it. keep the text short and to the point while still including all relevent detail. Don't use frilly words. Please begin the sentence with the format ALT ID:\"\n",
        "log_params = {}\n",
        "\n",
        "\n",
        "\n",
        "def openai_response(system, image_url, log_params, model=\"gpt-4o\"):\n",
        "    url = \"https://pas4ai.rorytm.com:8001/proxy/openai\"\n",
        "    body = {\n",
        "        \"max_tokens\": 300,\n",
        "        \"stream\": False,\n",
        "        \"model\": model,\n",
        "        \"temperature\": 1,\n",
        "        \"presence_penalty\": 0,\n",
        "        \"top_p\": 1,\n",
        "        \"frequency_penalty\": 0,\n",
        "        \"messages\": [\n",
        "            {\"role\": \"system\", \"content\": system},\n",
        "            {\"role\": \"user\", \"content\": f\"Here is your image: {image_url}\"}\n",
        "        ],\n",
        "        \"log_params\": log_params,\n",
        "    }\n",
        "    headers = {\"Authorization\": f\"Bearer {PROXY_KEY}\"}\n",
        "    response = requests.post(url, headers=headers, json=body, timeout=None)\n",
        "    response_body = response.content.decode(\"utf-8\")\n",
        "    response_json = json.loads(response_body)[\"choices\"][0][\"message\"][\"content\"]\n",
        "    return response_json\n",
        "\n",
        "\n",
        "\n",
        "\n",
        "\n",
        "\n",
        "def encode_image(image_path):\n",
        "    with open(image_path, \"rb\") as image_file:\n",
        "        return base64.b64encode(image_file.read()).decode('utf-8')\n",
        "\n",
        "image_path = \"//nasa_blue_marble.jpg\"\n",
        "\n",
        "base64_image = encode_image(image_path)\n",
        "\n",
        "headers = {\n",
        "    \"Content-Type\": \"application/json\",\n",
        "    \"Authorization\": f\"Bearer {PROXY_KEY}\"\n",
        "}\n",
        "\n",
        "payload = {\n",
        "    \"model\": \"gpt-4o\",\n",
        "    \"messages\": [\n",
        "        {\n",
        "            \"role\": \"user\",\n",
        "            \"content\": [\n",
        "                {\n",
        "                    \"type\": \"text\",\n",
        "                    \"text\": \"What’s in this image?\"\n",
        "                },\n",
        "                {\n",
        "                    \"type\": \"image_url\",\n",
        "                    \"image_url\": {\n",
        "                        \"url\": f\"data:image/jpeg;base64,{base64_image}\"\n",
        "                    }\n",
        "                }\n",
        "            ]\n",
        "        }\n",
        "    ],\n",
        "    \"max_tokens\": 300\n",
        "}\n",
        "\n",
        "\n",
        "client = openai_response(system_message, image_url, log_params)\n",
        "print(client)"
      ],
      "metadata": {
        "colab": {
          "base_uri": "https://localhost:8080/"
        },
        "id": "ZBbc2aPhfbeD",
        "outputId": "901ea543-c8ec-4e63-b5b8-e778e64a4afc"
      },
      "execution_count": null,
      "outputs": [
        {
          "output_type": "stream",
          "name": "stdout",
          "text": [
            "ALT ID: View of Earth from space showing continents and blue ocean with swirling clouds.\n"
          ]
        }
      ]
    }
  ]
}