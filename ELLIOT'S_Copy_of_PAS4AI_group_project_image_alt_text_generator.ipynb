{
  "nbformat": 4,
  "nbformat_minor": 0,
  "metadata": {
    "colab": {
      "provenance": [],
      "include_colab_link": true
    },
    "kernelspec": {
      "name": "python3",
      "display_name": "Python 3"
    },
    "language_info": {
      "name": "python"
    }
  },
  "cells": [
    {
      "cell_type": "markdown",
      "metadata": {
        "id": "view-in-github",
        "colab_type": "text"
      },
      "source": [
        "<a href=\"https://colab.research.google.com/github/hat-owl/PAS4AI-Group-1-Project/blob/main/ELLIOT'S_Copy_of_PAS4AI_group_project_image_alt_text_generator.ipynb\" target=\"_parent\"><img src=\"https://colab.research.google.com/assets/colab-badge.svg\" alt=\"Open In Colab\"/></a>"
      ]
    },
    {
      "cell_type": "code",
      "source": [
        "!pip install requests\n",
        "import json\n",
        "import requests"
      ],
      "metadata": {
        "colab": {
          "base_uri": "https://localhost:8080/"
        },
        "id": "ezflXHOrjA1r",
        "outputId": "c35f00bc-2a4c-4339-b273-d9752fc70242"
      },
      "execution_count": 36,
      "outputs": [
        {
          "output_type": "stream",
          "name": "stdout",
          "text": [
            "Requirement already satisfied: requests in /usr/local/lib/python3.10/dist-packages (2.31.0)\n",
            "Requirement already satisfied: charset-normalizer<4,>=2 in /usr/local/lib/python3.10/dist-packages (from requests) (3.3.2)\n",
            "Requirement already satisfied: idna<4,>=2.5 in /usr/local/lib/python3.10/dist-packages (from requests) (3.7)\n",
            "Requirement already satisfied: urllib3<3,>=1.21.1 in /usr/local/lib/python3.10/dist-packages (from requests) (2.0.7)\n",
            "Requirement already satisfied: certifi>=2017.4.17 in /usr/local/lib/python3.10/dist-packages (from requests) (2024.6.2)\n"
          ]
        }
      ]
    },
    {
      "cell_type": "code",
      "execution_count": 58,
      "metadata": {
        "id": "Fc9p4m_ndnUJ",
        "colab": {
          "base_uri": "https://localhost:8080/"
        },
        "outputId": "83f7bac3-8da6-44f9-e683-6bfa71e72ca3"
      },
      "outputs": [
        {
          "output_type": "stream",
          "name": "stdout",
          "text": [
            "ALT ID: Man running on a treadmill in a gym.\n",
            "https://as1.ftcdn.net/v2/jpg/02/20/80/30/1000_F_220803033_x6Oci7G6zKKfjqgsl9gBn3dpOyLdZmTN.jpg\n"
          ]
        }
      ],
      "source": [
        "import json\n",
        "\n",
        "from google.colab import userdata\n",
        "\n",
        "PROXY_KEY = userdata.get(\"proxy_key\")\n",
        "system_message = \"your task is to take an image and provide an alt text for it. keep the text short and to the point. Please begin the sentance with the format ALT ID:\"\n",
        "log_params = {}\n",
        "image_url = \"https://as1.ftcdn.net/v2/jpg/02/20/80/30/1000_F_220803033_x6Oci7G6zKKfjqgsl9gBn3dpOyLdZmTN.jpg\"\n",
        "\n",
        "\n",
        "\n",
        "\n",
        "def openai_response(system, image_url, log_params, model=\"gpt-4o\"):\n",
        "    url = \"https://pas4ai.rorytm.com:8001/proxy/openai\"\n",
        "    body = {\n",
        "        \"max_tokens\": 300,\n",
        "        \"stream\": False,\n",
        "        \"model\": model,\n",
        "        \"temperature\": 1,\n",
        "        \"presence_penalty\": 0,\n",
        "        \"top_p\": 1,\n",
        "        \"frequency_penalty\": 0,\n",
        "        \"messages\": [\n",
        "            {\"role\": \"system\", \"content\": system},\n",
        "          {\"role\": \"user\", \"content\": f\"Here is your image: {image_url}\"}\n",
        "        ],\n",
        "        \"log_params\": log_params,\n",
        "    }\n",
        "    headers = {\"Authorization\": f\"Bearer {PROXY_KEY}\"}\n",
        "    response = requests.post(url, headers=headers, json=body, timeout=None)\n",
        "    response_body = response.content.decode(\"utf-8\")\n",
        "    response_json = json.loads(response_body)[\"choices\"][0][\"message\"][\"content\"]\n",
        "    return response_json\n",
        "\n",
        "\n",
        "\n",
        "client = openai_response(system_message, image_url, log_params)\n",
        "\n",
        "\n",
        "print(client)\n",
        "print(image_url)\n",
        "\n",
        "\n",
        "response = {\n",
        "    \"choices\": [\n",
        "        {\n",
        "            \"message\": {\n",
        "                \"role\": \"assistant\",\n",
        "                \"content\": [\n",
        "                    {\"type\": \"text\", \"text\": \"What’s in this image?\"},\n",
        "                    {\n",
        "                        \"type\": \"image_url\",\n",
        "                        \"image_url\": {\n",
        "                            \"url\": \"https://as1.ftcdn.net/v2/jpg/02/20/80/30/1000_F_220803033_x6Oci7G6zKKfjqgsl9gBn3dpOyLdZmTN.jpg\",\n",
        "                        },\n",
        "                    },\n",
        "                ],\n",
        "            }\n",
        "        }\n",
        "    ]\n",
        "}\n",
        "\n"
      ]
    },
    {
      "cell_type": "markdown",
      "source": [],
      "metadata": {
        "id": "ZqSNww6tf9Un"
      }
    }
  ]
}