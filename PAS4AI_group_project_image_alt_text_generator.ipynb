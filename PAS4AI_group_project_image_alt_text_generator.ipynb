{
  "cells": [
    {
      "cell_type": "code",
      "execution_count": 2,
      "metadata": {
        "colab": {
          "base_uri": "https://localhost:8080/"
        },
        "id": "ezflXHOrjA1r",
        "outputId": "c44b9f56-6d4c-47b2-c6cd-499a1f3d2dbd"
      },
      "outputs": [
        {
          "name": "stdout",
          "output_type": "stream",
          "text": [
            "Defaulting to user installation because normal site-packages is not writeable\n",
            "Requirement already satisfied: requests in /var/data/python/lib/python3.11/site-packages (2.32.3)\n",
            "Requirement already satisfied: charset-normalizer<4,>=2 in /var/data/python/lib/python3.11/site-packages (from requests) (3.3.2)\n",
            "Requirement already satisfied: idna<4,>=2.5 in /var/data/python/lib/python3.11/site-packages (from requests) (3.7)\n",
            "Requirement already satisfied: urllib3<3,>=1.21.1 in /var/data/python/lib/python3.11/site-packages (from requests) (2.2.2)\n",
            "Requirement already satisfied: certifi>=2017.4.17 in /var/data/python/lib/python3.11/site-packages (from requests) (2024.7.4)\n"
          ]
        }
      ],
      "source": [
        "!pip install requests\n",
        "!pip install python-dotenv\n",
        "import json\n",
        "import requests\n",
        "import base64\n",
        "\n",
        "# can you see me write this\n",
        "# yes :)"
      ]
    },
    {
      "cell_type": "code",
      "execution_count": null,
      "metadata": {
        "colab": {
          "base_uri": "https://localhost:8080/",
          "height": 378
        },
        "id": "Fc9p4m_ndnUJ",
        "outputId": "00ce8af5-dad8-4430-d0aa-0b55dc87d9c0"
      },
      "outputs": [
        {
          "name": "stdout",
          "output_type": "stream",
          "text": [
            "Requirement already satisfied: httpx in /var/data/python/lib/python3.11/site-packages (0.27.0)\n",
            "Requirement already satisfied: anyio in /var/data/python/lib/python3.11/site-packages (from httpx) (4.4.0)\n",
            "Requirement already satisfied: certifi in /var/data/python/lib/python3.11/site-packages (from httpx) (2024.7.4)\n",
            "Requirement already satisfied: httpcore==1.* in /var/data/python/lib/python3.11/site-packages (from httpx) (1.0.5)\n",
            "Requirement already satisfied: idna in /var/data/python/lib/python3.11/site-packages (from httpx) (3.7)\n",
            "Requirement already satisfied: sniffio in /var/data/python/lib/python3.11/site-packages (from httpx) (1.3.1)\n",
            "Requirement already satisfied: h11<0.15,>=0.13 in /var/data/python/lib/python3.11/site-packages (from httpcore==1.*->httpx) (0.14.0)\n"
          ]
        },
        {
          "ename": "NameError",
          "evalue": "name 'httpx' is not defined",
          "output_type": "error",
          "traceback": [
            "\u001b[0;31m---------------------------------------------------------------------------\u001b[0m",
            "\u001b[0;31mNameError\u001b[0m                                 Traceback (most recent call last)",
            "Cell \u001b[0;32mIn[2], line 9\u001b[0m\n\u001b[1;32m      6\u001b[0m \u001b[38;5;28;01mimport\u001b[39;00m \u001b[38;5;21;01mjson\u001b[39;00m\n\u001b[1;32m      7\u001b[0m \u001b[38;5;28;01mimport\u001b[39;00m \u001b[38;5;21;01masyncio\u001b[39;00m\n\u001b[0;32m----> 9\u001b[0m result \u001b[38;5;241m=\u001b[39m \u001b[43mhttpx\u001b[49m\u001b[38;5;241m.\u001b[39mget(\u001b[38;5;124m\"\u001b[39m\u001b[38;5;124mhttps://en.wikipedia.org\u001b[39m\u001b[38;5;124m\"\u001b[39m)\n\u001b[1;32m     11\u001b[0m \u001b[38;5;28;01masync\u001b[39;00m \u001b[38;5;28;01mdef\u001b[39;00m \u001b[38;5;21mopenai_response\u001b[39m(system, dialogue, log_params, model\u001b[38;5;241m=\u001b[39m\u001b[38;5;124m\"\u001b[39m\u001b[38;5;124mgpt-4o\u001b[39m\u001b[38;5;124m\"\u001b[39m):\n\u001b[1;32m     12\u001b[0m     url \u001b[38;5;241m=\u001b[39m \u001b[38;5;124m\"\u001b[39m\u001b[38;5;124mhttps://pas4ai.rorytm.com:8001/proxy/openai\u001b[39m\u001b[38;5;124m\"\u001b[39m\n",
            "\u001b[0;31mNameError\u001b[0m: name 'httpx' is not defined"
          ]
        }
      ],
      "source": [
        "## Using URL\n",
        "## Functioning, but still only reading off the URL's\n",
        "\n",
        "\n",
        "\n",
        "\n",
        "PROXY_KEY = userdata.get(\"proxy_key\")\n",
        "system_message = \"your task is to take an image and provide an alt text for it. keep the text short and to the point while still including all relevent detail. Don't use frilly words. Please begin the sentence with the format ALT ID:\"\n",
        "log_params = {}\n",
        "image_url = \"https://www.rorytm.com/pas4ai/nasa_blue_marble.jpg\"\n",
        "\n",
        "\n",
        "\n",
        "\n",
        "def openai_response(system, image_url, log_params, model=\"gpt-4o\"):\n",
        "    url = \"https://pas4ai.rorytm.com:8001/proxy/openai\"\n",
        "    body = {\n",
        "        \"max_tokens\": 300,\n",
        "        \"stream\": False,\n",
        "        \"model\": model,\n",
        "        \"temperature\": 1,\n",
        "        \"presence_penalty\": 0,\n",
        "        \"top_p\": 1,\n",
        "        \"frequency_penalty\": 0,\n",
        "        \"messages\": [{\n",
        "            \"role\": \"system\",\n",
        "            \"content\": system,\n",
        "        },{\n",
        "            \"role\": \"user\",\n",
        "            \"content\": [\n",
        "                {\n",
        "                  \"type\": \"image_url\",\n",
        "                  \"image_url\": {\n",
        "                    \"url\": f\"{image_url}\",\n",
        "                  },\n",
        "                },\n",
        "              ],\n",
        "            }\n",
        "          ],\n",
        "        \"log_params\": log_params,\n",
        "    }\n",
        "    headers = {\"Authorization\": f\"Bearer {PROXY_KEY}\"}\n",
        "    response = requests.post(url, headers=headers, json=body, timeout=None)\n",
        "    response_body = response.content.decode(\"utf-8\")\n",
        "    response_json = json.loads(response_body)[\"choices\"][0][\"message\"][\"content\"]\n",
        "    return response_json\n",
        "\n",
        "\n",
        "\n",
        "response = openai_response(system_message, image_url, log_params)\n",
        "\n",
        "\n",
        "print(response)\n",
        "print(image_url)\n",
        "\n",
        "\n",
        "# response = {\n",
        "#     \"choices\": [\n",
        "#         {\n",
        "#             \"message\": {\n",
        "#                 \"role\": \"assistant\",\n",
        "#                 \"content\": [\n",
        "#                     {\"type\": \"text\", \"text\": \"What’s in this image?\"},\n",
        "#                     {\n",
        "#                         \"type\": \"image_url\",\n",
        "#                         \"image_url\": {\n",
        "#                             \"url\": \"https://www.rorytm.com/pas4ai/nasa_blue_marble.jpg\",\n",
        "#                         },\n",
        "#                     },\n",
        "#                 ],\n",
        "#             }\n",
        "#         }\n",
        "#     ]\n",
        "# }"
      ]
    },
    {
      "cell_type": "markdown",
      "metadata": {
        "id": "ZqSNww6tf9Un"
      },
      "source": []
    },
    {
      "cell_type": "code",
      "execution_count": null,
      "metadata": {},
      "outputs": [],
      "source": [
        "## Decoding Base64\n",
        "## Functioning, but still just making stuff up.\n",
        "\n",
        "\n",
        "PROXY_KEY = userdata.get(\"proxy_key\")\n",
        "system_message = \"your task is to take an image and provide an alt text for it. keep the text short and to the point while still including all relevent detail. Don't use frilly words. Please begin the sentence with the format ALT ID:\"\n",
        "log_params = {}\n",
        "\n",
        "\n",
        "\n",
        "def openai_response(system, image_url, log_params, model=\"gpt-4o\"):\n",
        "    url = \"https://pas4ai.rorytm.com:8001/proxy/openai\"\n",
        "    body = {\n",
        "        \"max_tokens\": 300,\n",
        "        \"stream\": False,\n",
        "        \"model\": model,\n",
        "        \"temperature\": 1,\n",
        "        \"presence_penalty\": 0,\n",
        "        \"top_p\": 1,\n",
        "        \"frequency_penalty\": 0,\n",
        "        \"messages\": [\n",
        "            {\"role\": \"system\", \"content\": system},\n",
        "            {\"role\": \"user\", \"content\": f\"Here is your image: {image_url}\"}\n",
        "        ],\n",
        "        \"log_params\": log_params,\n",
        "    }\n",
        "    headers = {\"Authorization\": f\"Bearer {PROXY_KEY}\"}\n",
        "    response = requests.post(url, headers=headers, json=body, timeout=None)\n",
        "    response_body = response.content.decode(\"utf-8\")\n",
        "    response_json = json.loads(response_body)[\"choices\"][0][\"message\"][\"content\"]\n",
        "    return response_json\n",
        "\n",
        "\n",
        "\n",
        "\n",
        "\n",
        "\n",
        "def encode_image(image_path):\n",
        "    with open(image_path, \"rb\") as image_file:\n",
        "        return base64.b64encode(image_file.read()).decode('utf-8')\n",
        "\n",
        "image_path = \"//nasa_blue_marble.jpg\"\n",
        "\n",
        "base64_image = encode_image(image_path)\n",
        "\n",
        "headers = {\n",
        "    \"Content-Type\": \"application/json\",\n",
        "    \"Authorization\": f\"Bearer {PROXY_KEY}\"\n",
        "}\n",
        "\n",
        "payload = {\n",
        "    \"model\": \"gpt-4o\",\n",
        "    \"messages\": [\n",
        "        {\n",
        "            \"role\": \"user\",\n",
        "            \"content\": [\n",
        "                {\n",
        "                    \"type\": \"text\",\n",
        "                    \"text\": \"What’s in this image?\"\n",
        "                },\n",
        "                {\n",
        "                    \"type\": \"image_url\",\n",
        "                    \"image_url\": {\n",
        "                        \"url\": f\"data:image/jpeg;base64,{base64_image}\"\n",
        "                    }\n",
        "                }\n",
        "            ]\n",
        "        }\n",
        "    ],\n",
        "    \"max_tokens\": 300\n",
        "}\n",
        "\n",
        "\n",
        "client = openai_response(system_message, image_url, log_params)\n",
        "print(client)"
      ]
    }
  ],
  "metadata": {
    "colab": {
      "provenance": []
    },
    "kernelspec": {
      "display_name": "Python 3",
      "name": "python3"
    },
    "language_info": {
      "codemirror_mode": {
        "name": "ipython",
        "version": 3
      },
      "file_extension": ".py",
      "mimetype": "text/x-python",
      "name": "python",
      "nbconvert_exporter": "python",
      "pygments_lexer": "ipython3",
      "version": "3.11.9"
    }
  },
  "nbformat": 4,
  "nbformat_minor": 0
}
