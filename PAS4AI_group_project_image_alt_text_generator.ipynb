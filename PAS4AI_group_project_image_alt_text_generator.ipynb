{
  "cells": [
    {
      "cell_type": "markdown",
      "metadata": {
        "id": "view-in-github",
        "colab_type": "text"
      },
      "source": [
        "<a href=\"https://colab.research.google.com/github/hat-owl/PAS4AI-Group-1-Project/blob/Jasmine%2Fprompt-engineering/PAS4AI_group_project_image_alt_text_generator.ipynb\" target=\"_parent\"><img src=\"https://colab.research.google.com/assets/colab-badge.svg\" alt=\"Open In Colab\"/></a>"
      ]
    },
    {
      "cell_type": "code",
      "execution_count": 29,
      "metadata": {
        "colab": {
          "base_uri": "https://localhost:8080/"
        },
        "id": "ezflXHOrjA1r",
        "outputId": "835dd6ce-fdae-4709-9628-b8831d3c6a69"
      },
      "outputs": [
        {
          "output_type": "stream",
          "name": "stdout",
          "text": [
            "Requirement already satisfied: requests in /usr/local/lib/python3.10/dist-packages (2.31.0)\n",
            "Requirement already satisfied: charset-normalizer<4,>=2 in /usr/local/lib/python3.10/dist-packages (from requests) (3.3.2)\n",
            "Requirement already satisfied: idna<4,>=2.5 in /usr/local/lib/python3.10/dist-packages (from requests) (3.7)\n",
            "Requirement already satisfied: urllib3<3,>=1.21.1 in /usr/local/lib/python3.10/dist-packages (from requests) (2.0.7)\n",
            "Requirement already satisfied: certifi>=2017.4.17 in /usr/local/lib/python3.10/dist-packages (from requests) (2024.7.4)\n",
            "Requirement already satisfied: python-dotenv in /usr/local/lib/python3.10/dist-packages (1.0.1)\n"
          ]
        }
      ],
      "source": [
        "!pip install requests\n",
        "!pip install python-dotenv\n",
        "import json\n",
        "import requests\n",
        "import base64\n",
        "import os\n",
        "import sys\n",
        "import dotenv\n",
        "\n",
        "# can you see me write this\n",
        "# yes :)"
      ]
    },
    {
      "cell_type": "code",
      "execution_count": 54,
      "metadata": {
        "colab": {
          "base_uri": "https://localhost:8080/"
        },
        "id": "Fc9p4m_ndnUJ",
        "outputId": "909079d5-323c-4583-9100-57a4b46849d3"
      },
      "outputs": [
        {
          "output_type": "stream",
          "name": "stdout",
          "text": [
            "ALT ID: This is a famous Japanese woodblock print illustration titled \"The Great Wave off Kanagawa,\" depicting a large wave threatening boats with Mount Fuji in the background.\n",
            "https://m.media-amazon.com/images/I/51w9mnqIiNL._AC_UF894,1000_QL80_.jpg\n"
          ]
        }
      ],
      "source": [
        "## Using URL\n",
        "## Functioning, gives accurate description of image\n",
        "\n",
        "env_path = \".env\"\n",
        "proxy_key_name = \"proxy_key\"\n",
        "\n",
        "PROXY_KEY = None\n",
        "system_message = \"Describe this image and its context to someone who is blind or has low vision. Keep it to 1 sentence if possible. State if it is a logo, comic, illustration, painting, or cartoon. If applicable, identify if it is a brand or well-known and specify what it is. Use simple language and avoid jargon. Please begin the sentence with the format ALT ID:\"\n",
        "\n",
        "log_params = {}\n",
        "\n",
        "\n",
        "image_url = \"https://m.media-amazon.com/images/I/51w9mnqIiNL._AC_UF894,1000_QL80_.jpg\"\n",
        "\n",
        "## Image test cases:\n",
        "# image_urls = [\n",
        "#     \"https://m.media-amazon.com/images/I/51w9mnqIiNL._AC_UF894,1000_QL80_.jpg\", # image of art\n",
        "#     \"https://mutts.com/cdn/shop/articles/ReadComic-lrg_1024x.jpg?v=1647024518\", # image of comic\n",
        "#     \"https://static.vecteezy.com/system/resources/previews/022/636/379/original/starbucks-logo-starbucks-icon-transparent-free-png.png\", # image of logo\n",
        "#     \"https://www.rorytm.com/pas4ai/nasa_blue_marble.jpg\", # image of rorys dog\n",
        "#     \"https://www.quanthub.com/wp-content/uploads/pie_chart_employee_count-1024x633.png\" # image of chart\n",
        "# ]\n",
        "\n",
        "\n",
        "PROXY_KEY = \"\"\n",
        "\n",
        "if \"google.colab\" in sys.modules:\n",
        "   # we're in google colab so retrieve the proxy key from there\n",
        "   from google.colab import userdata\n",
        "   PROXY_KEY = userdata.get(proxy_key_name)\n",
        "else:\n",
        "  # retrieve the proxy key from local env file\n",
        "  dotenv.load_dotenv(env_path)\n",
        "  PROXY_KEY = os.getenv(proxy_key_name)\n",
        "\n",
        "\n",
        "def openai_response(system, image_url, log_params, model=\"gpt-4o\"):\n",
        "    url = \"https://pas4ai.rorytm.com:8001/proxy/openai\"\n",
        "    body = {\n",
        "        \"max_tokens\": 300,\n",
        "        \"stream\": False,\n",
        "        \"model\": model,\n",
        "        \"temperature\": 1,\n",
        "        \"presence_penalty\": 0,\n",
        "        \"top_p\": 1,\n",
        "        \"frequency_penalty\": 0,\n",
        "        \"messages\": [{\n",
        "            \"role\": \"system\",\n",
        "            \"content\": system,\n",
        "        },{\n",
        "            \"role\": \"user\",\n",
        "            \"content\": [\n",
        "                {\n",
        "                  \"type\": \"image_url\",\n",
        "                  \"image_url\": {\n",
        "                    \"url\": f\"{image_url}\",\n",
        "                  },\n",
        "                },\n",
        "              ],\n",
        "            }\n",
        "          ],\n",
        "        \"log_params\": log_params,\n",
        "    }\n",
        "    headers = {\"Authorization\": f\"Bearer {PROXY_KEY}\"}\n",
        "    response = requests.post(url, headers=headers, json=body, timeout=None)\n",
        "    response_body = response.content.decode(\"utf-8\")\n",
        "    response_json = json.loads(response_body)[\"choices\"][0][\"message\"][\"content\"]\n",
        "    return response_json\n",
        "\n",
        "# print images and their alt text\n",
        "# for image_url in image_urls:\n",
        "#     response = openai_response(system_message, image_url, log_params)\n",
        "#     print(f\"##URL: {image_url}\")\n",
        "#     print(response, '\\n')\n",
        "#     print()\n",
        "\n",
        "response = openai_response(system_message, image_url, log_params)\n",
        "\n",
        "print(response)\n",
        "print(image_url)\n"
      ]
    },
    {
      "cell_type": "markdown",
      "metadata": {
        "id": "ZqSNww6tf9Un"
      },
      "source": []
    },
    {
      "cell_type": "code",
      "source": [
        "# response = openai_response(system_message, image_url, log_params)\n",
        "# print (response)\n",
        "# good = f\"\"\"\\\n",
        "# A good alt text is:\n",
        "# 1) concise\n",
        "# 2) descriptive\n",
        "# 3) consise\n",
        "# 4) accurate\n",
        "# 5) focused on parts important to the audience\n",
        "\n",
        "# Is this a good alt text for this image?\n",
        "# {response} \\\n",
        "# \"\"\"\n",
        "\n",
        "# response2 = openai_response (good, image_url, log_params)\n",
        "# print (response2)\n",
        "\n",
        "response = openai_response(system_message, image_url, log_params)\n",
        "\n",
        "category = f\"\"\"\\\n",
        "Identify what type of image (ie: logo, comic, art, charts, photograph) in the alt text {response}\"\"\"\n",
        "\n",
        "good = f\"\"\"\\\n",
        "Based on the type of image {category}, check if it meets these:\n",
        "  1. Logo:\n",
        "     a) Identify the brand, if applicable.\n",
        "     b) Is the description simple and clear?\n",
        "\n",
        "  2. Comic:\n",
        "     a) Describe the cartoon characters clearly.\n",
        "     b) Explain what is happening in the cartoon.\n",
        "     c) Keep it concise.\n",
        "\n",
        "  3. Art:\n",
        "     a) Does it mention the style of the art?\n",
        "     b) Are important parts and themes of the art described?\n",
        "     c) If the piece of art is famous or well-known, mention the title of the art. Put quotation marks around the title.\n",
        "\n",
        "  4. Chart:\n",
        "     a) State what kind of chart it is (ie bar, line, or pie).\n",
        "     b) Describe the main points and trends clearly.\n",
        "     c) Are the axes and labels described accurately?\n",
        "\n",
        "  5. Photograph:\n",
        "     a) Describe the scene or subject clearly.\n",
        "     b) Mention any notable details.\n",
        "\n",
        "\n",
        "Print the original generated alt text {response}, followed by the improved alt text. (1-2 sentences at most)\n",
        "\"\"\"\n",
        "\n",
        "response2 = openai_response(good, image_url, log_params)\n",
        "print(response2)\n",
        "print(image_url)\n"
      ],
      "metadata": {
        "id": "7GGgr0Qxfw0-",
        "outputId": "a4e699fa-1953-41f9-8019-6f429d3f617d",
        "colab": {
          "base_uri": "https://localhost:8080/"
        }
      },
      "execution_count": 71,
      "outputs": [
        {
          "output_type": "stream",
          "name": "stdout",
          "text": [
            "Original: A famous Japanese painting of a giant wave with boats struggling against it.\n",
            "\n",
            "Improved: \"The Great Wave off Kanagawa\" by Hokusai, depicting a giant wave threatening boats with Mount Fuji in the background.\n",
            "https://m.media-amazon.com/images/I/51w9mnqIiNL._AC_UF894,1000_QL80_.jpg\n"
          ]
        }
      ]
    },
    {
      "cell_type": "code",
      "execution_count": 32,
      "metadata": {
        "id": "rvOF-3wC5VwK"
      },
      "outputs": [],
      "source": [
        "# ## Decoding Base64\n",
        "# ## Functioning, but still just making stuff up.\n",
        "\n",
        "\n",
        "# system_message = \"your task is to take an image and provide an alt text for it. keep the text short and to the point while still including all relevent detail. Don't use frilly words. Please begin the sentence with the format ALT ID:\"\n",
        "# log_params = {}\n",
        "\n",
        "\n",
        "\n",
        "# def openai_response(system, image_url, log_params, model=\"gpt-4o\"):\n",
        "#     url = \"https://pas4ai.rorytm.com:8001/proxy/openai\"\n",
        "#     body = {\n",
        "#         \"max_tokens\": 300,\n",
        "#         \"stream\": False,\n",
        "#         \"model\": model,\n",
        "#         \"temperature\": 1,\n",
        "#         \"presence_penalty\": 0,\n",
        "#         \"top_p\": 1,\n",
        "#         \"frequency_penalty\": 0,\n",
        "#         \"messages\": [\n",
        "#             {\"role\": \"system\", \"content\": system},\n",
        "#             {\"role\": \"user\", \"content\": f\"Here is your image: {image_url}\"}\n",
        "#         ],\n",
        "#         \"log_params\": log_params,\n",
        "#     }\n",
        "#     headers = {\"Authorization\": f\"Bearer {PROXY_KEY}\"}\n",
        "#     response = requests.post(url, headers=headers, json=body, timeout=None)\n",
        "#     response_body = response.content.decode(\"utf-8\")\n",
        "#     response_json = json.loads(response_body)[\"choices\"][0][\"message\"][\"content\"]\n",
        "#     return response_json\n",
        "\n",
        "\n",
        "\n",
        "\n",
        "\n",
        "\n",
        "# def encode_image(image_path):\n",
        "#     with open(image_path, \"rb\") as image_file:\n",
        "#         return base64.b64encode(image_file.read()).decode('utf-8')\n",
        "\n",
        "# image_path = \"//nasa_blue_marble.jpg\"\n",
        "\n",
        "# base64_image = encode_image(image_path)\n",
        "\n",
        "# headers = {\n",
        "#     \"Content-Type\": \"application/json\",\n",
        "#     \"Authorization\": f\"Bearer {PROXY_KEY}\"\n",
        "# }\n",
        "\n",
        "# payload = {\n",
        "#     \"model\": \"gpt-4o\",\n",
        "#     \"messages\": [\n",
        "#         {\n",
        "#             \"role\": \"user\",\n",
        "#             \"content\": [\n",
        "#                 {\n",
        "#                     \"type\": \"text\",\n",
        "#                     \"text\": \"What’s in this image?\"\n",
        "#                 },\n",
        "#                 {\n",
        "#                     \"type\": \"image_url\",\n",
        "#                     \"image_url\": {\n",
        "#                         \"url\": f\"data:image/jpeg;base64,{base64_image}\"\n",
        "#                     }\n",
        "#                 }\n",
        "#             ]\n",
        "#         }\n",
        "#     ],\n",
        "#     \"max_tokens\": 300\n",
        "# }\n",
        "\n",
        "\n",
        "# client = openai_response(system_message, image_url, log_params)\n",
        "# print(client)"
      ]
    },
    {
      "cell_type": "code",
      "source": [],
      "metadata": {
        "id": "JJDo7oMOfjYh"
      },
      "execution_count": 32,
      "outputs": []
    }
  ],
  "metadata": {
    "colab": {
      "provenance": [],
      "include_colab_link": true
    },
    "kernelspec": {
      "display_name": "Python 3",
      "name": "python3"
    },
    "language_info": {
      "codemirror_mode": {
        "name": "ipython",
        "version": 3
      },
      "file_extension": ".py",
      "mimetype": "text/x-python",
      "name": "python",
      "nbconvert_exporter": "python",
      "pygments_lexer": "ipython3",
      "version": "3.11.9"
    }
  },
  "nbformat": 4,
  "nbformat_minor": 0
}