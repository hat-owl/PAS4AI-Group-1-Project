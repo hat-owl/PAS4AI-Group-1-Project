{
  "cells": [
    {
      "cell_type": "code",
      "execution_count": 24,
      "metadata": {
        "colab": {
          "base_uri": "https://localhost:8080/"
        },
        "id": "ezflXHOrjA1r",
        "outputId": "c44b9f56-6d4c-47b2-c6cd-499a1f3d2dbd"
      },
      "outputs": [
        {
          "name": "stdout",
          "output_type": "stream",
          "text": [
            "Defaulting to user installation because normal site-packages is not writeable\n",
            "Requirement already satisfied: requests in /var/data/python/lib/python3.11/site-packages (2.32.3)\n",
            "Requirement already satisfied: charset-normalizer<4,>=2 in /var/data/python/lib/python3.11/site-packages (from requests) (3.3.2)\n",
            "Requirement already satisfied: idna<4,>=2.5 in /var/data/python/lib/python3.11/site-packages (from requests) (3.7)\n",
            "Requirement already satisfied: urllib3<3,>=1.21.1 in /var/data/python/lib/python3.11/site-packages (from requests) (2.2.2)\n",
            "Requirement already satisfied: certifi>=2017.4.17 in /var/data/python/lib/python3.11/site-packages (from requests) (2024.7.4)\n",
            "Defaulting to user installation because normal site-packages is not writeable\n",
            "Requirement already satisfied: python-dotenv in /var/data/python/lib/python3.11/site-packages (1.0.1)\n"
          ]
        }
      ],
      "source": [
        "!pip install requests\n",
        "!pip install python-dotenv\n",
        "import json\n",
        "import requests\n",
        "import base64\n",
        "import os\n",
        "import sys\n",
        "import dotenv\n",
        "\n",
        "# can you see me write this\n",
        "# yes :)"
      ]
    },
    {
      "cell_type": "code",
      "execution_count": 25,
      "metadata": {
        "colab": {
          "base_uri": "https://localhost:8080/",
          "height": 378
        },
        "id": "Fc9p4m_ndnUJ",
        "outputId": "00ce8af5-dad8-4430-d0aa-0b55dc87d9c0"
      },
      "outputs": [
        {
          "name": "stdout",
          "output_type": "stream",
          "text": [
            "ALT ID: A black and white speckled dog is lying on a wooden floor, peeking around a red wall while holding a tan plush toy in its mouth. Stonework and a dark hallway are visible in the background.\n",
            "https://www.rorytm.com/pas4ai/nasa_blue_marble.jpg\n"
          ]
        }
      ],
      "source": [
        "## Using URL\n",
        "## Functioning, but still only reading off the URL's\n",
        "\n",
        "env_path = \".env\"\n",
        "proxy_key_name = \"proxy_key\"\n",
        "\n",
        "system_message = \"your task is to take an image and provide an alt text for it. keep the text short and to the point while still including all relevent detail. Don't use frilly words. Please begin the sentence with the format ALT ID:\"\n",
        "log_params = {}\n",
        "image_url = \"https://www.rorytm.com/pas4ai/nasa_blue_marble.jpg\"\n",
        "\n",
        "\n",
        "PROXY_KEY = \"\"\n",
        "\n",
        "if \"google.colab\" in sys.modules:\n",
        "   # we're in google colab so retrieve the proxy key from there\n",
        "   from google.colab import userdata\n",
        "   PROXY_KEY = userdata.get(proxy_key_name)\n",
        "else:\n",
        "  # retrieve the proxy key from local env file\n",
        "  dotenv.load_dotenv(env_path)\n",
        "  PROXY_KEY = os.getenv(proxy_key_name)\n",
        "\n",
        "\n",
        "def openai_response(system, image_url, log_params, model=\"gpt-4o\"):\n",
        "    url = \"https://pas4ai.rorytm.com:8001/proxy/openai\"\n",
        "    body = {\n",
        "        \"max_tokens\": 300,\n",
        "        \"stream\": False,\n",
        "        \"model\": model,\n",
        "        \"temperature\": 1,\n",
        "        \"presence_penalty\": 0,\n",
        "        \"top_p\": 1,\n",
        "        \"frequency_penalty\": 0,\n",
        "        \"messages\": [{\n",
        "            \"role\": \"system\",\n",
        "            \"content\": system,\n",
        "        },{\n",
        "            \"role\": \"user\",\n",
        "            \"content\": [\n",
        "                {\n",
        "                  \"type\": \"image_url\",\n",
        "                  \"image_url\": {\n",
        "                    \"url\": f\"{image_url}\",\n",
        "                  },\n",
        "                },\n",
        "              ],\n",
        "            }\n",
        "          ],\n",
        "        \"log_params\": log_params,\n",
        "    }\n",
        "    headers = {\"Authorization\": f\"Bearer {PROXY_KEY}\"}\n",
        "    response = requests.post(url, headers=headers, json=body, timeout=None)\n",
        "    response_body = response.content.decode(\"utf-8\")\n",
        "    response_json = json.loads(response_body)[\"choices\"][0][\"message\"][\"content\"]\n",
        "    return response_json\n",
        "\n",
        "\n",
        "\n",
        "response = openai_response(system_message, image_url, log_params)\n",
        "\n",
        "\n",
        "print(response)\n",
        "print(image_url)\n",
        "\n",
        "\n",
        "# response = {\n",
        "#     \"choices\": [\n",
        "#         {\n",
        "#             \"message\": {\n",
        "#                 \"role\": \"assistant\",\n",
        "#                 \"content\": [\n",
        "#                     {\"type\": \"text\", \"text\": \"What’s in this image?\"},\n",
        "#                     {\n",
        "#                         \"type\": \"image_url\",\n",
        "#                         \"image_url\": {\n",
        "#                             \"url\": \"https://www.rorytm.com/pas4ai/nasa_blue_marble.jpg\",\n",
        "#                         },\n",
        "#                     },\n",
        "#                 ],\n",
        "#             }\n",
        "#         }\n",
        "#     ]\n",
        "# }"
      ]
    },
    {
      "cell_type": "markdown",
      "metadata": {
        "id": "ZqSNww6tf9Un"
      },
      "source": []
    },
    {
      "cell_type": "code",
      "execution_count": 26,
      "metadata": {},
      "outputs": [
        {
          "ename": "FileNotFoundError",
          "evalue": "[Errno 2] No such file or directory: '//nasa_blue_marble.jpg'",
          "output_type": "error",
          "traceback": [
            "\u001b[0;31m---------------------------------------------------------------------------\u001b[0m",
            "\u001b[0;31mFileNotFoundError\u001b[0m                         Traceback (most recent call last)",
            "Cell \u001b[0;32mIn[26], line 43\u001b[0m\n\u001b[1;32m     39\u001b[0m         \u001b[38;5;28;01mreturn\u001b[39;00m base64\u001b[38;5;241m.\u001b[39mb64encode(image_file\u001b[38;5;241m.\u001b[39mread())\u001b[38;5;241m.\u001b[39mdecode(\u001b[38;5;124m'\u001b[39m\u001b[38;5;124mutf-8\u001b[39m\u001b[38;5;124m'\u001b[39m)\n\u001b[1;32m     41\u001b[0m image_path \u001b[38;5;241m=\u001b[39m \u001b[38;5;124m\"\u001b[39m\u001b[38;5;124m//nasa_blue_marble.jpg\u001b[39m\u001b[38;5;124m\"\u001b[39m\n\u001b[0;32m---> 43\u001b[0m base64_image \u001b[38;5;241m=\u001b[39m \u001b[43mencode_image\u001b[49m\u001b[43m(\u001b[49m\u001b[43mimage_path\u001b[49m\u001b[43m)\u001b[49m\n\u001b[1;32m     45\u001b[0m headers \u001b[38;5;241m=\u001b[39m {\n\u001b[1;32m     46\u001b[0m     \u001b[38;5;124m\"\u001b[39m\u001b[38;5;124mContent-Type\u001b[39m\u001b[38;5;124m\"\u001b[39m: \u001b[38;5;124m\"\u001b[39m\u001b[38;5;124mapplication/json\u001b[39m\u001b[38;5;124m\"\u001b[39m,\n\u001b[1;32m     47\u001b[0m     \u001b[38;5;124m\"\u001b[39m\u001b[38;5;124mAuthorization\u001b[39m\u001b[38;5;124m\"\u001b[39m: \u001b[38;5;124mf\u001b[39m\u001b[38;5;124m\"\u001b[39m\u001b[38;5;124mBearer \u001b[39m\u001b[38;5;132;01m{\u001b[39;00mPROXY_KEY\u001b[38;5;132;01m}\u001b[39;00m\u001b[38;5;124m\"\u001b[39m\n\u001b[1;32m     48\u001b[0m }\n\u001b[1;32m     50\u001b[0m payload \u001b[38;5;241m=\u001b[39m {\n\u001b[1;32m     51\u001b[0m     \u001b[38;5;124m\"\u001b[39m\u001b[38;5;124mmodel\u001b[39m\u001b[38;5;124m\"\u001b[39m: \u001b[38;5;124m\"\u001b[39m\u001b[38;5;124mgpt-4o\u001b[39m\u001b[38;5;124m\"\u001b[39m,\n\u001b[1;32m     52\u001b[0m     \u001b[38;5;124m\"\u001b[39m\u001b[38;5;124mmessages\u001b[39m\u001b[38;5;124m\"\u001b[39m: [\n\u001b[0;32m   (...)\u001b[0m\n\u001b[1;32m     69\u001b[0m     \u001b[38;5;124m\"\u001b[39m\u001b[38;5;124mmax_tokens\u001b[39m\u001b[38;5;124m\"\u001b[39m: \u001b[38;5;241m300\u001b[39m\n\u001b[1;32m     70\u001b[0m }\n",
            "Cell \u001b[0;32mIn[26], line 38\u001b[0m, in \u001b[0;36mencode_image\u001b[0;34m(image_path)\u001b[0m\n\u001b[1;32m     37\u001b[0m \u001b[38;5;28;01mdef\u001b[39;00m \u001b[38;5;21mencode_image\u001b[39m(image_path):\n\u001b[0;32m---> 38\u001b[0m     \u001b[38;5;28;01mwith\u001b[39;00m \u001b[38;5;28;43mopen\u001b[39;49m\u001b[43m(\u001b[49m\u001b[43mimage_path\u001b[49m\u001b[43m,\u001b[49m\u001b[43m \u001b[49m\u001b[38;5;124;43m\"\u001b[39;49m\u001b[38;5;124;43mrb\u001b[39;49m\u001b[38;5;124;43m\"\u001b[39;49m\u001b[43m)\u001b[49m \u001b[38;5;28;01mas\u001b[39;00m image_file:\n\u001b[1;32m     39\u001b[0m         \u001b[38;5;28;01mreturn\u001b[39;00m base64\u001b[38;5;241m.\u001b[39mb64encode(image_file\u001b[38;5;241m.\u001b[39mread())\u001b[38;5;241m.\u001b[39mdecode(\u001b[38;5;124m'\u001b[39m\u001b[38;5;124mutf-8\u001b[39m\u001b[38;5;124m'\u001b[39m)\n",
            "File \u001b[0;32m/var/data/python/lib/python3.11/site-packages/IPython/core/interactiveshell.py:324\u001b[0m, in \u001b[0;36m_modified_open\u001b[0;34m(file, *args, **kwargs)\u001b[0m\n\u001b[1;32m    317\u001b[0m \u001b[38;5;28;01mif\u001b[39;00m file \u001b[38;5;129;01min\u001b[39;00m {\u001b[38;5;241m0\u001b[39m, \u001b[38;5;241m1\u001b[39m, \u001b[38;5;241m2\u001b[39m}:\n\u001b[1;32m    318\u001b[0m     \u001b[38;5;28;01mraise\u001b[39;00m \u001b[38;5;167;01mValueError\u001b[39;00m(\n\u001b[1;32m    319\u001b[0m         \u001b[38;5;124mf\u001b[39m\u001b[38;5;124m\"\u001b[39m\u001b[38;5;124mIPython won\u001b[39m\u001b[38;5;124m'\u001b[39m\u001b[38;5;124mt let you open fd=\u001b[39m\u001b[38;5;132;01m{\u001b[39;00mfile\u001b[38;5;132;01m}\u001b[39;00m\u001b[38;5;124m by default \u001b[39m\u001b[38;5;124m\"\u001b[39m\n\u001b[1;32m    320\u001b[0m         \u001b[38;5;124m\"\u001b[39m\u001b[38;5;124mas it is likely to crash IPython. If you know what you are doing, \u001b[39m\u001b[38;5;124m\"\u001b[39m\n\u001b[1;32m    321\u001b[0m         \u001b[38;5;124m\"\u001b[39m\u001b[38;5;124myou can use builtins\u001b[39m\u001b[38;5;124m'\u001b[39m\u001b[38;5;124m open.\u001b[39m\u001b[38;5;124m\"\u001b[39m\n\u001b[1;32m    322\u001b[0m     )\n\u001b[0;32m--> 324\u001b[0m \u001b[38;5;28;01mreturn\u001b[39;00m \u001b[43mio_open\u001b[49m\u001b[43m(\u001b[49m\u001b[43mfile\u001b[49m\u001b[43m,\u001b[49m\u001b[43m \u001b[49m\u001b[38;5;241;43m*\u001b[39;49m\u001b[43margs\u001b[49m\u001b[43m,\u001b[49m\u001b[43m \u001b[49m\u001b[38;5;241;43m*\u001b[39;49m\u001b[38;5;241;43m*\u001b[39;49m\u001b[43mkwargs\u001b[49m\u001b[43m)\u001b[49m\n",
            "\u001b[0;31mFileNotFoundError\u001b[0m: [Errno 2] No such file or directory: '//nasa_blue_marble.jpg'"
          ]
        }
      ],
      "source": [
        "## Decoding Base64\n",
        "## Functioning, but still just making stuff up.\n",
        "\n",
        "\n",
        "system_message = \"your task is to take an image and provide an alt text for it. keep the text short and to the point while still including all relevent detail. Don't use frilly words. Please begin the sentence with the format ALT ID:\"\n",
        "log_params = {}\n",
        "\n",
        "\n",
        "\n",
        "def openai_response(system, image_url, log_params, model=\"gpt-4o\"):\n",
        "    url = \"https://pas4ai.rorytm.com:8001/proxy/openai\"\n",
        "    body = {\n",
        "        \"max_tokens\": 300,\n",
        "        \"stream\": False,\n",
        "        \"model\": model,\n",
        "        \"temperature\": 1,\n",
        "        \"presence_penalty\": 0,\n",
        "        \"top_p\": 1,\n",
        "        \"frequency_penalty\": 0,\n",
        "        \"messages\": [\n",
        "            {\"role\": \"system\", \"content\": system},\n",
        "            {\"role\": \"user\", \"content\": f\"Here is your image: {image_url}\"}\n",
        "        ],\n",
        "        \"log_params\": log_params,\n",
        "    }\n",
        "    headers = {\"Authorization\": f\"Bearer {PROXY_KEY}\"}\n",
        "    response = requests.post(url, headers=headers, json=body, timeout=None)\n",
        "    response_body = response.content.decode(\"utf-8\")\n",
        "    response_json = json.loads(response_body)[\"choices\"][0][\"message\"][\"content\"]\n",
        "    return response_json\n",
        "\n",
        "\n",
        "\n",
        "\n",
        "\n",
        "\n",
        "def encode_image(image_path):\n",
        "    with open(image_path, \"rb\") as image_file:\n",
        "        return base64.b64encode(image_file.read()).decode('utf-8')\n",
        "\n",
        "image_path = \"//nasa_blue_marble.jpg\"\n",
        "\n",
        "base64_image = encode_image(image_path)\n",
        "\n",
        "headers = {\n",
        "    \"Content-Type\": \"application/json\",\n",
        "    \"Authorization\": f\"Bearer {PROXY_KEY}\"\n",
        "}\n",
        "\n",
        "payload = {\n",
        "    \"model\": \"gpt-4o\",\n",
        "    \"messages\": [\n",
        "        {\n",
        "            \"role\": \"user\",\n",
        "            \"content\": [\n",
        "                {\n",
        "                    \"type\": \"text\",\n",
        "                    \"text\": \"What’s in this image?\"\n",
        "                },\n",
        "                {\n",
        "                    \"type\": \"image_url\",\n",
        "                    \"image_url\": {\n",
        "                        \"url\": f\"data:image/jpeg;base64,{base64_image}\"\n",
        "                    }\n",
        "                }\n",
        "            ]\n",
        "        }\n",
        "    ],\n",
        "    \"max_tokens\": 300\n",
        "}\n",
        "\n",
        "\n",
        "client = openai_response(system_message, image_url, log_params)\n",
        "print(client)"
      ]
    }
  ],
  "metadata": {
    "colab": {
      "provenance": []
    },
    "kernelspec": {
      "display_name": "Python 3",
      "name": "python3"
    },
    "language_info": {
      "codemirror_mode": {
        "name": "ipython",
        "version": 3
      },
      "file_extension": ".py",
      "mimetype": "text/x-python",
      "name": "python",
      "nbconvert_exporter": "python",
      "pygments_lexer": "ipython3",
      "version": "3.11.9"
    }
  },
  "nbformat": 4,
  "nbformat_minor": 0
}
